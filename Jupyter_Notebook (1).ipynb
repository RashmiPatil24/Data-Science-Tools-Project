{
  "metadata": {
    "kernelspec": {
      "name": "python",
      "display_name": "Pyolite",
      "language": "python"
    },
    "language_info": {
      "codemirror_mode": {
        "name": "python",
        "version": 3
      },
      "file_extension": ".py",
      "mimetype": "text/x-python",
      "name": "python",
      "nbconvert_exporter": "python",
      "pygments_lexer": "ipython3",
      "version": "3.8"
    }
  },
  "nbformat_minor": 4,
  "nbformat": 4,
  "cells": [
    {
      "cell_type": "markdown",
      "source": "<center>\n    <img src=\"https://cf-courses-data.s3.us.cloud-object-storage.appdomain.cloud/IBMDeveloperSkillsNetwork-DS0105EN-SkillsNetwork/labs/Module2/images/SN_web_lightmode.png\" width=\"300\" alt=\"cognitiveclass.ai logo\"  />\n</center>\n",
      "metadata": {}
    },
    {
      "cell_type": "markdown",
      "source": "# My Jupyter Notebook on IBM Watson Studio",
      "metadata": {}
    },
    {
      "cell_type": "markdown",
      "source": "**Rashmi Patil**  \nStudent",
      "metadata": {}
    },
    {
      "cell_type": "markdown",
      "source": "*Now a days there is alot of scope in the data science carrier and that's why I am here to take a nice well paid jod*\n",
      "metadata": {}
    },
    {
      "cell_type": "markdown",
      "source": "### Code given below tells if the number is divisiable by 2 or not\n",
      "metadata": {}
    },
    {
      "cell_type": "code",
      "source": "num1=100\nif(num1%2==0):\n    print(\"The number is divisable by 2\")\nelse:\n    print(\"The number is not divisable by 2\")",
      "metadata": {
        "trusted": true
      },
      "execution_count": 6,
      "outputs": [
        {
          "name": "stdout",
          "text": "The number is divisable by 2\n",
          "output_type": "stream"
        }
      ]
    },
    {
      "cell_type": "markdown",
      "source": "[]",
      "metadata": {}
    }
  ]
}